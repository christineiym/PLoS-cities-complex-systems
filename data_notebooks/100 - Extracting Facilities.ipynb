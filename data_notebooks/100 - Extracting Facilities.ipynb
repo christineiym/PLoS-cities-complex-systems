{
 "cells": [
  {
   "cell_type": "code",
   "execution_count": 3,
   "metadata": {},
   "outputs": [
    {
     "name": "stdout",
     "output_type": "stream",
     "text": [
      "Defaulting to user installation because normal site-packages is not writeable\n",
      "Requirement already satisfied: geopandas in /Users/cimendoz/Library/Python/3.9/lib/python/site-packages (0.14.4)\n",
      "Collecting osmium\n",
      "  Downloading osmium-4.0.2-cp39-cp39-macosx_11_0_arm64.whl (1.1 MB)\n",
      "\u001b[K     |████████████████████████████████| 1.1 MB 6.3 MB/s eta 0:00:01\n",
      "\u001b[?25hRequirement already satisfied: shapely in /Users/cimendoz/Library/Python/3.9/lib/python/site-packages (2.0.6)\n",
      "Requirement already satisfied: numpy>=1.22 in /Users/cimendoz/Library/Python/3.9/lib/python/site-packages (from geopandas) (1.26.4)\n",
      "Requirement already satisfied: fiona>=1.8.21 in /Users/cimendoz/Library/Python/3.9/lib/python/site-packages (from geopandas) (1.10.1)\n",
      "Requirement already satisfied: packaging in /Users/cimendoz/Library/Python/3.9/lib/python/site-packages (from geopandas) (24.1)\n",
      "Requirement already satisfied: pyproj>=3.3.0 in /Users/cimendoz/Library/Python/3.9/lib/python/site-packages (from geopandas) (3.6.1)\n",
      "Requirement already satisfied: pandas>=1.4.0 in /Users/cimendoz/Library/Python/3.9/lib/python/site-packages (from geopandas) (2.2.3)\n",
      "Requirement already satisfied: requests in /Users/cimendoz/Library/Python/3.9/lib/python/site-packages (from osmium) (2.32.3)\n",
      "Requirement already satisfied: certifi in /Users/cimendoz/Library/Python/3.9/lib/python/site-packages (from fiona>=1.8.21->geopandas) (2024.8.30)\n",
      "Requirement already satisfied: cligj>=0.5 in /Users/cimendoz/Library/Python/3.9/lib/python/site-packages (from fiona>=1.8.21->geopandas) (0.7.2)\n",
      "Requirement already satisfied: attrs>=19.2.0 in /Users/cimendoz/Library/Python/3.9/lib/python/site-packages (from fiona>=1.8.21->geopandas) (24.2.0)\n",
      "Requirement already satisfied: importlib-metadata in /Users/cimendoz/Library/Python/3.9/lib/python/site-packages (from fiona>=1.8.21->geopandas) (8.5.0)\n",
      "Requirement already satisfied: click-plugins>=1.0 in /Users/cimendoz/Library/Python/3.9/lib/python/site-packages (from fiona>=1.8.21->geopandas) (1.1.1)\n",
      "Requirement already satisfied: click~=8.0 in /Users/cimendoz/Library/Python/3.9/lib/python/site-packages (from fiona>=1.8.21->geopandas) (8.1.7)\n",
      "Requirement already satisfied: python-dateutil>=2.8.2 in /Users/cimendoz/Library/Python/3.9/lib/python/site-packages (from pandas>=1.4.0->geopandas) (2.9.0.post0)\n",
      "Requirement already satisfied: pytz>=2020.1 in /Users/cimendoz/Library/Python/3.9/lib/python/site-packages (from pandas>=1.4.0->geopandas) (2024.2)\n",
      "Requirement already satisfied: tzdata>=2022.7 in /Users/cimendoz/Library/Python/3.9/lib/python/site-packages (from pandas>=1.4.0->geopandas) (2024.2)\n",
      "Requirement already satisfied: six>=1.5 in /Library/Developer/CommandLineTools/Library/Frameworks/Python3.framework/Versions/3.9/lib/python3.9/site-packages (from python-dateutil>=2.8.2->pandas>=1.4.0->geopandas) (1.15.0)\n",
      "Requirement already satisfied: zipp>=3.20 in /Users/cimendoz/Library/Python/3.9/lib/python/site-packages (from importlib-metadata->fiona>=1.8.21->geopandas) (3.20.2)\n",
      "Requirement already satisfied: urllib3<3,>=1.21.1 in /Users/cimendoz/Library/Python/3.9/lib/python/site-packages (from requests->osmium) (2.2.3)\n",
      "Requirement already satisfied: charset-normalizer<4,>=2 in /Users/cimendoz/Library/Python/3.9/lib/python/site-packages (from requests->osmium) (3.4.0)\n",
      "Requirement already satisfied: idna<4,>=2.5 in /Users/cimendoz/Library/Python/3.9/lib/python/site-packages (from requests->osmium) (3.10)\n",
      "Installing collected packages: osmium\n",
      "Successfully installed osmium-4.0.2\n",
      "\u001b[33mWARNING: You are using pip version 21.2.4; however, version 24.3.1 is available.\n",
      "You should consider upgrading via the '/Library/Developer/CommandLineTools/usr/bin/python3 -m pip install --upgrade pip' command.\u001b[0m\n"
     ]
    }
   ],
   "source": [
    "!pip3 install geopandas osmium shapely"
   ]
  },
  {
   "cell_type": "code",
   "execution_count": 4,
   "metadata": {},
   "outputs": [],
   "source": [
    "import geopandas as gpd\n",
    "import osmium\n",
    "from shapely.geometry import shape\n",
    "\n",
    "# WGS84 CRS\n",
    "WGS84 = 4326"
   ]
  },
  {
   "cell_type": "code",
   "execution_count": 5,
   "metadata": {},
   "outputs": [],
   "source": [
    "facilities = {\n",
    "    \"bank\": [(\"amenity\", \"bank\")],\n",
    "    \"bar\": [(\"amenity\", \"bar\")],\n",
    "    \"concert_hall\": [(\"amenity\", \"concert_hall\")],\n",
    "    \"hospital\": [(\"amenity\", \"hospital\")],\n",
    "    \"park\": [(\"leisure\", \"park\")],\n",
    "    \"pharmacy\": [(\"amenity\", \"pharmacy\")],\n",
    "    \"school\": [(\"amenity\", \"school\")],\n",
    "    \"sports_field\": [(\"leisure\", \"pitch\")],\n",
    "}\n",
    "\n",
    "\n",
    "def way_filter(tags):\n",
    "    for facility, facility_tags in facilities.items():\n",
    "        for facility_tag in facility_tags:\n",
    "            if facility_tag[0] in tags:\n",
    "                if tags[facility_tag[0]] == facility_tag[1]:\n",
    "                    return True\n",
    "    return False\n",
    "\n",
    "node_filter = way_filter\n",
    "\n",
    "\n",
    "def facility_from_tags(tags):\n",
    "    def any_match(tags, facility_tags):\n",
    "        for key, value in facility_tags:\n",
    "            if key in tags:\n",
    "                if tags[key] == value:\n",
    "                    return True\n",
    "        return False\n",
    "    \n",
    "    for facility, facility_tags in facilities.items():\n",
    "        if any_match(tags, facility_tags):\n",
    "            return facility"
   ]
  },
  {
   "cell_type": "markdown",
   "metadata": {},
   "source": [
    "Note: the parser functions may need to be run multiple times to function. Some kind of caching happening?"
   ]
  },
  {
   "cell_type": "code",
   "execution_count": 7,
   "metadata": {},
   "outputs": [],
   "source": [
    "nodes = []\n",
    "\n",
    "class NodeParser(osmium.SimpleHandler):\n",
    "    def __init__(self):\n",
    "        osmium.SimpleHandler.__init__(self)\n",
    "    \n",
    "    def node(self, n):\n",
    "        if not way_filter(n.tags):\n",
    "            return\n",
    "        \n",
    "        loc = n.location\n",
    "        coords = (float(loc.lon), float(loc.lat))\n",
    "        \n",
    "        geometry = {\n",
    "            \"type\": \"Point\",\n",
    "            \"coordinates\": coords\n",
    "        }\n",
    "        \n",
    "        facility = facility_from_tags(n.tags)\n",
    "\n",
    "        d = {\n",
    "            \"geometry\": geometry,\n",
    "            \"properties\": {\n",
    "                \"osm_id\": int(n.id),\n",
    "                \"facility\": facility\n",
    "            }\n",
    "        }\n",
    "            \n",
    "        nodes.append(d)        \n",
    "    \n",
    "        del loc\n",
    "        del n\n",
    "\n",
    "        \n",
    "node_parser = NodeParser()\n",
    "node_parser.apply_file(\"../artifacts/pittsburgh.osm.pbf\")"
   ]
  },
  {
   "cell_type": "code",
   "execution_count": 8,
   "metadata": {},
   "outputs": [],
   "source": [
    "ways = []\n",
    "\n",
    "class WayParser(osmium.SimpleHandler):\n",
    "    def __init__(self):\n",
    "        osmium.SimpleHandler.__init__(self)\n",
    "\n",
    "    def way(self, w):\n",
    "        # FIXME: this will miss multipolygons. Need a relation hook.\n",
    "        if not way_filter(w.tags):\n",
    "            return\n",
    "        \n",
    "        coords = [(n.lon, n.lat) for n in w.nodes]\n",
    "        \n",
    "        # Reject invalid polygons\n",
    "        if (coords[0][0] != coords[-1][0]) and (coords[0][1] != coords[-1][1]):\n",
    "            return\n",
    "        \n",
    "        geometry = {\n",
    "            \"type\": \"Polygon\",\n",
    "            \"coordinates\": [coords]\n",
    "        }\n",
    "        \n",
    "        facility = facility_from_tags(w.tags)\n",
    "\n",
    "        d = {\n",
    "            \"geometry\": geometry,\n",
    "            \"properties\": {\n",
    "                \"osm_id\": int(w.id),\n",
    "                \"facility\": facility\n",
    "            }\n",
    "        }\n",
    "\n",
    "        \n",
    "        ways.append(d)\n",
    "        \n",
    "        del w\n",
    "        \n",
    "way_parser = WayParser()\n",
    "way_parser.apply_file(\"../artifacts/pittsburgh.osm.pbf\", locations=True)"
   ]
  },
  {
   "cell_type": "code",
   "execution_count": 9,
   "metadata": {},
   "outputs": [
    {
     "name": "stdout",
     "output_type": "stream",
     "text": [
      "Nodes: 421\n",
      "Ways: 1557\n"
     ]
    }
   ],
   "source": [
    "print(f\"Nodes: {len(nodes)}\")\n",
    "print(f\"Ways: {len(ways)}\")"
   ]
  },
  {
   "cell_type": "code",
   "execution_count": 10,
   "metadata": {},
   "outputs": [
    {
     "ename": "ValueError",
     "evalue": "A linearring requires at least 4 coordinates.",
     "output_type": "error",
     "traceback": [
      "\u001b[0;31m---------------------------------------------------------------------------\u001b[0m",
      "\u001b[0;31mValueError\u001b[0m                                Traceback (most recent call last)",
      "Cell \u001b[0;32mIn[10], line 2\u001b[0m\n\u001b[1;32m      1\u001b[0m nodes_shapes \u001b[38;5;241m=\u001b[39m [{\u001b[38;5;241m*\u001b[39m\u001b[38;5;241m*\u001b[39mn[\u001b[38;5;124m\"\u001b[39m\u001b[38;5;124mproperties\u001b[39m\u001b[38;5;124m\"\u001b[39m], \u001b[38;5;124m\"\u001b[39m\u001b[38;5;124mgeometry\u001b[39m\u001b[38;5;124m\"\u001b[39m: shape(n[\u001b[38;5;124m\"\u001b[39m\u001b[38;5;124mgeometry\u001b[39m\u001b[38;5;124m\"\u001b[39m])} \u001b[38;5;28;01mfor\u001b[39;00m n \u001b[38;5;129;01min\u001b[39;00m nodes]\n\u001b[0;32m----> 2\u001b[0m ways_shapes \u001b[38;5;241m=\u001b[39m [{\u001b[38;5;241m*\u001b[39m\u001b[38;5;241m*\u001b[39mw[\u001b[38;5;124m\"\u001b[39m\u001b[38;5;124mproperties\u001b[39m\u001b[38;5;124m\"\u001b[39m], \u001b[38;5;124m\"\u001b[39m\u001b[38;5;124mgeometry\u001b[39m\u001b[38;5;124m\"\u001b[39m: shape(w[\u001b[38;5;124m\"\u001b[39m\u001b[38;5;124mgeometry\u001b[39m\u001b[38;5;124m\"\u001b[39m])} \u001b[38;5;28;01mfor\u001b[39;00m w \u001b[38;5;129;01min\u001b[39;00m ways]\n",
      "Cell \u001b[0;32mIn[10], line 2\u001b[0m, in \u001b[0;36m<listcomp>\u001b[0;34m(.0)\u001b[0m\n\u001b[1;32m      1\u001b[0m nodes_shapes \u001b[38;5;241m=\u001b[39m [{\u001b[38;5;241m*\u001b[39m\u001b[38;5;241m*\u001b[39mn[\u001b[38;5;124m\"\u001b[39m\u001b[38;5;124mproperties\u001b[39m\u001b[38;5;124m\"\u001b[39m], \u001b[38;5;124m\"\u001b[39m\u001b[38;5;124mgeometry\u001b[39m\u001b[38;5;124m\"\u001b[39m: shape(n[\u001b[38;5;124m\"\u001b[39m\u001b[38;5;124mgeometry\u001b[39m\u001b[38;5;124m\"\u001b[39m])} \u001b[38;5;28;01mfor\u001b[39;00m n \u001b[38;5;129;01min\u001b[39;00m nodes]\n\u001b[0;32m----> 2\u001b[0m ways_shapes \u001b[38;5;241m=\u001b[39m [{\u001b[38;5;241m*\u001b[39m\u001b[38;5;241m*\u001b[39mw[\u001b[38;5;124m\"\u001b[39m\u001b[38;5;124mproperties\u001b[39m\u001b[38;5;124m\"\u001b[39m], \u001b[38;5;124m\"\u001b[39m\u001b[38;5;124mgeometry\u001b[39m\u001b[38;5;124m\"\u001b[39m: \u001b[43mshape\u001b[49m\u001b[43m(\u001b[49m\u001b[43mw\u001b[49m\u001b[43m[\u001b[49m\u001b[38;5;124;43m\"\u001b[39;49m\u001b[38;5;124;43mgeometry\u001b[39;49m\u001b[38;5;124;43m\"\u001b[39;49m\u001b[43m]\u001b[49m\u001b[43m)\u001b[49m} \u001b[38;5;28;01mfor\u001b[39;00m w \u001b[38;5;129;01min\u001b[39;00m ways]\n",
      "File \u001b[0;32m~/Library/Python/3.9/lib/python/site-packages/shapely/geometry/geo.py:101\u001b[0m, in \u001b[0;36mshape\u001b[0;34m(context)\u001b[0m\n\u001b[1;32m     99\u001b[0m     \u001b[38;5;28;01mreturn\u001b[39;00m LinearRing(ob[\u001b[38;5;124m\"\u001b[39m\u001b[38;5;124mcoordinates\u001b[39m\u001b[38;5;124m\"\u001b[39m])\n\u001b[1;32m    100\u001b[0m \u001b[38;5;28;01melif\u001b[39;00m geom_type \u001b[38;5;241m==\u001b[39m \u001b[38;5;124m\"\u001b[39m\u001b[38;5;124mpolygon\u001b[39m\u001b[38;5;124m\"\u001b[39m:\n\u001b[0;32m--> 101\u001b[0m     \u001b[38;5;28;01mreturn\u001b[39;00m \u001b[43mPolygon\u001b[49m\u001b[43m(\u001b[49m\u001b[43mob\u001b[49m\u001b[43m[\u001b[49m\u001b[38;5;124;43m\"\u001b[39;49m\u001b[38;5;124;43mcoordinates\u001b[39;49m\u001b[38;5;124;43m\"\u001b[39;49m\u001b[43m]\u001b[49m\u001b[43m[\u001b[49m\u001b[38;5;241;43m0\u001b[39;49m\u001b[43m]\u001b[49m\u001b[43m,\u001b[49m\u001b[43m \u001b[49m\u001b[43mob\u001b[49m\u001b[43m[\u001b[49m\u001b[38;5;124;43m\"\u001b[39;49m\u001b[38;5;124;43mcoordinates\u001b[39;49m\u001b[38;5;124;43m\"\u001b[39;49m\u001b[43m]\u001b[49m\u001b[43m[\u001b[49m\u001b[38;5;241;43m1\u001b[39;49m\u001b[43m:\u001b[49m\u001b[43m]\u001b[49m\u001b[43m)\u001b[49m\n\u001b[1;32m    102\u001b[0m \u001b[38;5;28;01melif\u001b[39;00m geom_type \u001b[38;5;241m==\u001b[39m \u001b[38;5;124m\"\u001b[39m\u001b[38;5;124mmultipoint\u001b[39m\u001b[38;5;124m\"\u001b[39m:\n\u001b[1;32m    103\u001b[0m     \u001b[38;5;28;01mreturn\u001b[39;00m MultiPoint(ob[\u001b[38;5;124m\"\u001b[39m\u001b[38;5;124mcoordinates\u001b[39m\u001b[38;5;124m\"\u001b[39m])\n",
      "File \u001b[0;32m~/Library/Python/3.9/lib/python/site-packages/shapely/geometry/polygon.py:230\u001b[0m, in \u001b[0;36mPolygon.__new__\u001b[0;34m(self, shell, holes)\u001b[0m\n\u001b[1;32m    228\u001b[0m     \u001b[38;5;28;01mreturn\u001b[39;00m shell\n\u001b[1;32m    229\u001b[0m \u001b[38;5;28;01melse\u001b[39;00m:\n\u001b[0;32m--> 230\u001b[0m     shell \u001b[38;5;241m=\u001b[39m \u001b[43mLinearRing\u001b[49m\u001b[43m(\u001b[49m\u001b[43mshell\u001b[49m\u001b[43m)\u001b[49m\n\u001b[1;32m    232\u001b[0m \u001b[38;5;28;01mif\u001b[39;00m holes \u001b[38;5;129;01mis\u001b[39;00m \u001b[38;5;129;01mnot\u001b[39;00m \u001b[38;5;28;01mNone\u001b[39;00m:\n\u001b[1;32m    233\u001b[0m     \u001b[38;5;28;01mif\u001b[39;00m \u001b[38;5;28mlen\u001b[39m(holes) \u001b[38;5;241m==\u001b[39m \u001b[38;5;241m0\u001b[39m:\n\u001b[1;32m    234\u001b[0m         \u001b[38;5;66;03m# shapely constructor cannot handle holes=[]\u001b[39;00m\n",
      "File \u001b[0;32m~/Library/Python/3.9/lib/python/site-packages/shapely/geometry/polygon.py:104\u001b[0m, in \u001b[0;36mLinearRing.__new__\u001b[0;34m(self, coordinates)\u001b[0m\n\u001b[1;32m     99\u001b[0m \u001b[38;5;28;01mif\u001b[39;00m \u001b[38;5;28mlen\u001b[39m(coordinates) \u001b[38;5;241m==\u001b[39m \u001b[38;5;241m0\u001b[39m:\n\u001b[1;32m    100\u001b[0m     \u001b[38;5;66;03m# empty geometry\u001b[39;00m\n\u001b[1;32m    101\u001b[0m     \u001b[38;5;66;03m# TODO better constructor + should shapely.linearrings handle this?\u001b[39;00m\n\u001b[1;32m    102\u001b[0m     \u001b[38;5;28;01mreturn\u001b[39;00m shapely\u001b[38;5;241m.\u001b[39mfrom_wkt(\u001b[38;5;124m\"\u001b[39m\u001b[38;5;124mLINEARRING EMPTY\u001b[39m\u001b[38;5;124m\"\u001b[39m)\n\u001b[0;32m--> 104\u001b[0m geom \u001b[38;5;241m=\u001b[39m \u001b[43mshapely\u001b[49m\u001b[38;5;241;43m.\u001b[39;49m\u001b[43mlinearrings\u001b[49m\u001b[43m(\u001b[49m\u001b[43mcoordinates\u001b[49m\u001b[43m)\u001b[49m\n\u001b[1;32m    105\u001b[0m \u001b[38;5;28;01mif\u001b[39;00m \u001b[38;5;129;01mnot\u001b[39;00m \u001b[38;5;28misinstance\u001b[39m(geom, LinearRing):\n\u001b[1;32m    106\u001b[0m     \u001b[38;5;28;01mraise\u001b[39;00m \u001b[38;5;167;01mValueError\u001b[39;00m(\u001b[38;5;124m\"\u001b[39m\u001b[38;5;124mInvalid values passed to LinearRing constructor\u001b[39m\u001b[38;5;124m\"\u001b[39m)\n",
      "File \u001b[0;32m~/Library/Python/3.9/lib/python/site-packages/shapely/decorators.py:77\u001b[0m, in \u001b[0;36mmultithreading_enabled.<locals>.wrapped\u001b[0;34m(*args, **kwargs)\u001b[0m\n\u001b[1;32m     75\u001b[0m     \u001b[38;5;28;01mfor\u001b[39;00m arr \u001b[38;5;129;01min\u001b[39;00m array_args:\n\u001b[1;32m     76\u001b[0m         arr\u001b[38;5;241m.\u001b[39mflags\u001b[38;5;241m.\u001b[39mwriteable \u001b[38;5;241m=\u001b[39m \u001b[38;5;28;01mFalse\u001b[39;00m\n\u001b[0;32m---> 77\u001b[0m     \u001b[38;5;28;01mreturn\u001b[39;00m \u001b[43mfunc\u001b[49m\u001b[43m(\u001b[49m\u001b[38;5;241;43m*\u001b[39;49m\u001b[43margs\u001b[49m\u001b[43m,\u001b[49m\u001b[43m \u001b[49m\u001b[38;5;241;43m*\u001b[39;49m\u001b[38;5;241;43m*\u001b[39;49m\u001b[43mkwargs\u001b[49m\u001b[43m)\u001b[49m\n\u001b[1;32m     78\u001b[0m \u001b[38;5;28;01mfinally\u001b[39;00m:\n\u001b[1;32m     79\u001b[0m     \u001b[38;5;28;01mfor\u001b[39;00m arr, old_flag \u001b[38;5;129;01min\u001b[39;00m \u001b[38;5;28mzip\u001b[39m(array_args, old_flags):\n",
      "File \u001b[0;32m~/Library/Python/3.9/lib/python/site-packages/shapely/creation.py:171\u001b[0m, in \u001b[0;36mlinearrings\u001b[0;34m(coords, y, z, indices, out, **kwargs)\u001b[0m\n\u001b[1;32m    169\u001b[0m coords \u001b[38;5;241m=\u001b[39m _xyz_to_coords(coords, y, z)\n\u001b[1;32m    170\u001b[0m \u001b[38;5;28;01mif\u001b[39;00m indices \u001b[38;5;129;01mis\u001b[39;00m \u001b[38;5;28;01mNone\u001b[39;00m:\n\u001b[0;32m--> 171\u001b[0m     \u001b[38;5;28;01mreturn\u001b[39;00m \u001b[43mlib\u001b[49m\u001b[38;5;241;43m.\u001b[39;49m\u001b[43mlinearrings\u001b[49m\u001b[43m(\u001b[49m\u001b[43mcoords\u001b[49m\u001b[43m,\u001b[49m\u001b[43m \u001b[49m\u001b[43mout\u001b[49m\u001b[38;5;241;43m=\u001b[39;49m\u001b[43mout\u001b[49m\u001b[43m,\u001b[49m\u001b[43m \u001b[49m\u001b[38;5;241;43m*\u001b[39;49m\u001b[38;5;241;43m*\u001b[39;49m\u001b[43mkwargs\u001b[49m\u001b[43m)\u001b[49m\n\u001b[1;32m    172\u001b[0m \u001b[38;5;28;01melse\u001b[39;00m:\n\u001b[1;32m    173\u001b[0m     \u001b[38;5;28;01mreturn\u001b[39;00m simple_geometries_1d(coords, indices, GeometryType\u001b[38;5;241m.\u001b[39mLINEARRING, out\u001b[38;5;241m=\u001b[39mout)\n",
      "\u001b[0;31mValueError\u001b[0m: A linearring requires at least 4 coordinates."
     ]
    }
   ],
   "source": [
    "nodes_shapes = [{**n[\"properties\"], \"geometry\": shape(n[\"geometry\"])} for n in nodes]\n",
    "ways_shapes = [{**w[\"properties\"], \"geometry\": shape(w[\"geometry\"])} for w in ways]"
   ]
  },
  {
   "cell_type": "code",
   "execution_count": 13,
   "metadata": {},
   "outputs": [],
   "source": [
    "nodes_df = gpd.GeoDataFrame(nodes_shapes)\n",
    "# ways_df = gpd.GeoDataFrame(ways_shapes)\n",
    "nodes_df.crs = WGS84\n",
    "# ways_df.crs = WGS84"
   ]
  },
  {
   "cell_type": "code",
   "execution_count": 14,
   "metadata": {},
   "outputs": [],
   "source": [
    "nodes_df.to_file(\"../artifacts/pittsburgh_nodes.gpkg\", driver=\"GPKG\")\n",
    "# ways_df.to_file(\"../artifacts/pittsburgh_ways.gpkg\", driver=\"GPKG\")"
   ]
  },
  {
   "cell_type": "code",
   "execution_count": null,
   "metadata": {},
   "outputs": [],
   "source": []
  }
 ],
 "metadata": {
  "kernelspec": {
   "display_name": "Python 3",
   "language": "python",
   "name": "python3"
  },
  "language_info": {
   "codemirror_mode": {
    "name": "ipython",
    "version": 3
   },
   "file_extension": ".py",
   "mimetype": "text/x-python",
   "name": "python",
   "nbconvert_exporter": "python",
   "pygments_lexer": "ipython3",
   "version": "3.9.6"
  }
 },
 "nbformat": 4,
 "nbformat_minor": 4
}
