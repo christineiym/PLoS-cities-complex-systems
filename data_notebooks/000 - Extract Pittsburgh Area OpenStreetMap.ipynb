{
 "cells": [
  {
   "cell_type": "code",
   "execution_count": null,
   "metadata": {},
   "outputs": [
    {
     "name": "stdout",
     "output_type": "stream",
     "text": [
      "Mar 03, 2021 4:01:05 PM org.openstreetmap.osmosis.core.Osmosis run\n",
      "INFO: Osmosis Version 0.47\n",
      "Mar 03, 2021 4:01:05 PM org.openstreetmap.osmosis.core.Osmosis run\n",
      "INFO: Preparing pipeline.\n",
      "Mar 03, 2021 4:01:05 PM org.openstreetmap.osmosis.core.Osmosis run\n",
      "INFO: Launching pipeline execution.\n",
      "Mar 03, 2021 4:01:05 PM org.openstreetmap.osmosis.core.Osmosis run\n",
      "INFO: Pipeline executing, waiting for completion.\n",
      "WARNING: An illegal reflective access operation has occurred\n",
      "WARNING: Illegal reflective access by com.google.protobuf.UnsafeUtil (file:/usr/share/java/protobuf.jar) to field java.nio.Buffer.address\n",
      "WARNING: Please consider reporting this to the maintainers of com.google.protobuf.UnsafeUtil\n",
      "WARNING: Use --illegal-access=warn to enable warnings of further illegal reflective access operations\n",
      "WARNING: All illegal access operations will be denied in a future release\n",
      "Mar 03, 2021 4:01:18 PM org.openstreetmap.osmosis.core.Osmosis run\n",
      "INFO: Pipeline complete.\n",
      "Mar 03, 2021 4:01:18 PM org.openstreetmap.osmosis.core.Osmosis run\n",
      "INFO: Total execution time: 13372 milliseconds.\n"
     ]
    }
   ],
   "source": [
    "!osmosis --read-pbf ../data/pennsylvania-latest.osm.pbf --bounding-box left=-122.4440 bottom=47.4755 right=-122.2250 top=47.7559 clipIncompleteEntities=true --write-pbf ../artifacts/pittsburgh.osm.pbf"
   ]
  },
  {
   "cell_type": "markdown",
   "metadata": {},
   "source": [
    "osmosis --read-pbf ./data/pennsylvania-latest.osm.pbf --bounding-box left=-80.1320 bottom=40.3821 right=-79.7873 top=40.5347 clipIncompleteEntities=true --write-pbf ./artifacts/pittsburgh.osm.pbf"
   ]
  }
 ],
 "metadata": {
  "kernelspec": {
   "display_name": "Python 3",
   "language": "python",
   "name": "python3"
  },
  "language_info": {
   "codemirror_mode": {
    "name": "ipython",
    "version": 3
   },
   "file_extension": ".py",
   "mimetype": "text/x-python",
   "name": "python",
   "nbconvert_exporter": "python",
   "pygments_lexer": "ipython3",
   "version": "3.9.6"
  }
 },
 "nbformat": 4,
 "nbformat_minor": 4
}
